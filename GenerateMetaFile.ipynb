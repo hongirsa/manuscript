{
 "cells": [
  {
   "cell_type": "markdown",
   "metadata": {},
   "source": [
    "    Before Starting: \n",
    "    make sure Firefox installed\n",
    "    the image file format must be *.tif instead of *.tiff\n",
    "    install anaconda"
   ]
  },
  {
   "cell_type": "code",
   "execution_count": 1,
   "metadata": {},
   "outputs": [],
   "source": [
    "#from osgeo import gdal\n",
    "import pandas as pd\n",
    "import os"
   ]
  },
  {
   "cell_type": "code",
   "execution_count": 2,
   "metadata": {},
   "outputs": [
    {
     "name": "stdout",
     "output_type": "stream",
     "text": [
      "                      id_no system:time_start\n",
      "0     LAI300_20190110_07VDL     1554948000000\n",
      "1     LAI300_20190110_09VVG     1554948000000\n",
      "2     LAI300_20190110_09WXP     1554948000000\n",
      "3     LAI300_20190110_10TFP     1554948000000\n",
      "4     LAI300_20190110_10UGV     1554948000000\n",
      "...                     ...               ...\n",
      "1735  LAI300_20200930_19VED     1601467200000\n",
      "1736  LAI300_20200930_21TYN     1601467200000\n",
      "1737  LAI300_20200930_21UUA     1601467200000\n",
      "1738  LAI300_20200930_21UWQ     1601467200000\n",
      "1739  LAI300_20200930_22WDA     1601467200000\n",
      "\n",
      "[1740 rows x 2 columns]\n"
     ]
    }
   ],
   "source": [
    "in_dir = r'J:\\LAI300\\tif'  \n",
    "out_csv = r'J:\\LAI300\\tile_metadatat.csv'\n",
    "\n",
    "# Add required keys and make pandas data frame\n",
    "# will store the metadata in the df\n",
    "csv_keys = ['id_no', 'system:time_start']\n",
    "df = pd.DataFrame(columns=csv_keys)\n",
    "for root, dirs, files in os.walk(in_dir):\n",
    "    for file in files:\n",
    "        if file.endswith(\".tif\"):\n",
    "            path = os.path.join(root, file) # make path\n",
    "          #  raster = gdal.Open(path, gdal.GA_ReadOnly) # Open Raster in GDAL\n",
    "            meta = dict.fromkeys(csv_keys) # Make a dict to store key, values\n",
    "            # Get time from filename\n",
    "            # Example filename:LAI300_20190110_07VDL.tif\n",
    "            year = file[7:11] # need change index based on file name\n",
    "            #print (year)\n",
    "            yeardate=file[7:15]# need change index based on file name\n",
    "            #print (yeardate)\n",
    "            date = pd.to_datetime(yeardate, format='%Y%m%d')\n",
    "            #print (date)\n",
    "            year_day = pd.Timestamp(year=date.year, month=1, day=1)\n",
    "            #print (year_day)\n",
    "            doy = (date - year_day).days + 1\n",
    "           # print (doy)\n",
    "            hour=12           \n",
    "            timestamp = year + str(doy) + str(hour)\n",
    "            # convert time stamp to gee format          \n",
    "            gee_timestamp = int(pd.to_datetime(timestamp, format='%Y%j%H').value//10**6)\n",
    "            #print(gee_timestamp) # format: 1554948000000\n",
    "\n",
    "            meta['id_no'] = os.path.splitext(file)[0]\n",
    "            meta['system:time_start'] = gee_timestamp           \n",
    "\n",
    "            df = df.append(meta, ignore_index=True)           \n",
    "print(df)\n",
    "df.to_csv(out_csv, index=False)"
   ]
  },
  {
   "cell_type": "markdown",
   "metadata": {},
   "source": [
    "    installation for using geeup:\n",
    "    \n",
    "    run anaconda from cmd\n",
    "    conda update -c conda-forge earthengine-api\n",
    "    pip install earthengine-api --upgrade\n",
    "    pip install geeup\n",
    "    geeup init\n",
    "    earthengine authenticate\n",
    "    geeup upload --source \"D:\\20200820\\tiff\" --dest users/ganghong/FAPAR  -m \"D:\\20200820\\tile_metadata.csv\" -u gang.hong@gcp.nrcan-rncan.cloud"
   ]
  },
  {
   "cell_type": "code",
   "execution_count": null,
   "metadata": {},
   "outputs": [],
   "source": []
  }
 ],
 "metadata": {
  "kernelspec": {
   "display_name": "Python 3",
   "language": "python",
   "name": "python3"
  },
  "language_info": {
   "codemirror_mode": {
    "name": "ipython",
    "version": 3
   },
   "file_extension": ".py",
   "mimetype": "text/x-python",
   "name": "python",
   "nbconvert_exporter": "python",
   "pygments_lexer": "ipython3",
   "version": "3.8.5"
  }
 },
 "nbformat": 4,
 "nbformat_minor": 4
}
