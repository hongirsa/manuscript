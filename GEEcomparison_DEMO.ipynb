{
 "cells": [
  {
   "cell_type": "code",
   "execution_count": 20,
   "metadata": {},
   "outputs": [
    {
     "data": {
      "text/html": [
       "<p>To authorize access needed by Earth Engine, open the following\n",
       "        URL in a web browser and follow the instructions:</p>\n",
       "        <p><a href=https://accounts.google.com/o/oauth2/auth?client_id=517222506229-vsmmajv00ul0bs7p89v5m89qs8eb9359.apps.googleusercontent.com&scope=https%3A%2F%2Fwww.googleapis.com%2Fauth%2Fearthengine+https%3A%2F%2Fwww.googleapis.com%2Fauth%2Fdevstorage.full_control&redirect_uri=urn%3Aietf%3Awg%3Aoauth%3A2.0%3Aoob&response_type=code&code_challenge=eHLYQe7rBYB5aEHC094HXe_WjJdsw-9stQPtzpYOEr8&code_challenge_method=S256>https://accounts.google.com/o/oauth2/auth?client_id=517222506229-vsmmajv00ul0bs7p89v5m89qs8eb9359.apps.googleusercontent.com&scope=https%3A%2F%2Fwww.googleapis.com%2Fauth%2Fearthengine+https%3A%2F%2Fwww.googleapis.com%2Fauth%2Fdevstorage.full_control&redirect_uri=urn%3Aietf%3Awg%3Aoauth%3A2.0%3Aoob&response_type=code&code_challenge=eHLYQe7rBYB5aEHC094HXe_WjJdsw-9stQPtzpYOEr8&code_challenge_method=S256</a></p>\n",
       "        <p>The authorization workflow will generate a code, which you\n",
       "        should paste in the box below</p>\n",
       "        "
      ],
      "text/plain": [
       "<IPython.core.display.HTML object>"
      ]
     },
     "metadata": {},
     "output_type": "display_data"
    },
    {
     "name": "stdin",
     "output_type": "stream",
     "text": [
      "Enter verification code:  4/1AY0e-g6D0vCMI-t13FxseE13k292T8J8ZFb1k1AWUsnMqAfiC1ZYk2N2HlE\n"
     ]
    },
    {
     "name": "stdout",
     "output_type": "stream",
     "text": [
      "\n",
      "Successfully saved authorization token.\n"
     ]
    }
   ],
   "source": [
    "import pandas as pd\n",
    "import ee\n",
    "import geetools\n",
    "import folium\n",
    "import time\n",
    "from folium import plugins\n",
    "import Leaf_tools\n",
    "from geopandas import GeoDataFrame\n",
    "from shapely.geometry import shape\n",
    "ee.Authenticate()\n",
    "ee.Initialize()"
   ]
  },
  {
   "cell_type": "markdown",
   "metadata": {},
   "source": [
    "**import data**"
   ]
  },
  {
   "cell_type": "code",
   "execution_count": 22,
   "metadata": {},
   "outputs": [
    {
     "name": "stdout",
     "output_type": "stream",
     "text": [
      "28\n",
      "35\n",
      "1764\n",
      "1823\n",
      "1680\n",
      "2175\n",
      "2202\n",
      "2092\n"
     ]
    }
   ],
   "source": [
    "tiles_CCRS = ee.FeatureCollection(\"users/ganghong/TilesSampling_Sub\")\n",
    "print (tiles.size().getInfo())\n",
    "tiles_Bel = ee.FeatureCollection('users/ganghong/TilesSampling_Belmanip_Sub')\n",
    "print (tiles_Bel.size().getInfo())\n",
    "ezone = ee.FeatureCollection(\"users/ganghong/NA_Forests\")\n",
    "fapar_CCRS = ee.ImageCollection(\"users/ganghong/FAPAR_CCRS\")\n",
    "fcover_CCRS = ee.ImageCollection(\"users/ganghong/FCOVER\")\n",
    "LAI_CCRS = ee.ImageCollection(\"users/ganghong/LAI_CCRS\")\n",
    "fapar_Bel = ee.ImageCollection(\"users/ganghong/FAPAR_Bel\")\n",
    "fcover_Bel = ee.ImageCollection(\"users/ganghong/FCOVER_Bel\")\n",
    "LAI_Bel = ee.ImageCollection(\"users/ganghong/LAI_Bel\")\n",
    "print (fapar_CCRS.size().getInfo())\n",
    "print (fcover_CCRS.size().getInfo())\n",
    "print (LAI_CCRS.size().getInfo())\n",
    "print (fapar_Bel.size().getInfo())\n",
    "print (fcover_Bel.size().getInfo())\n",
    "print (LAI_Bel.size().getInfo())"
   ]
  },
  {
   "cell_type": "markdown",
   "metadata": {},
   "source": [
    "**functions definition**"
   ]
  },
  {
   "cell_type": "code",
   "execution_count": 23,
   "metadata": {},
   "outputs": [],
   "source": [
    "basemaps = {\n",
    "'Google Maps': folium.TileLayer(\n",
    "tiles = 'https://mt1.google.com/vt/lyrs=m&x={x}&y={y}&z={z}',\n",
    "attr = 'Google',\n",
    "name = 'Google Maps',\n",
    "overlay = True,\n",
    "control = True\n",
    "),\n",
    "'Google Satellite': folium.TileLayer(\n",
    "tiles = 'https://mt1.google.com/vt/lyrs=s&x={x}&y={y}&z={z}',\n",
    "attr = 'Google',\n",
    "name = 'Google Satellite',\n",
    "overlay = True,\n",
    "control = True\n",
    ")}\n",
    "\n",
    "## display layers\n",
    "def add_ee_layer(self, ee_object, vis_params, name):\n",
    " try:\n",
    "  if isinstance(ee_object, ee.image.Image):\n",
    "   map_id_dict = ee.Image(ee_object).getMapId(vis_params)\n",
    "   folium.raster_layers.TileLayer(\n",
    "   tiles = map_id_dict['tile_fetcher'].url_format,\n",
    "   attr = 'Google Earth Engine',\n",
    "   name = name,\n",
    "   overlay = True,\n",
    "   control = True\n",
    "   ).add_to(self)\n",
    "\n",
    "  elif isinstance(ee_object, ee.imagecollection.ImageCollection):\n",
    "   ee_object_new = ee_object.mosaic()\n",
    "   map_id_dict = ee.Image(ee_object_new).getMapId(vis_params)\n",
    "   folium.raster_layers.TileLayer(\n",
    "   tiles = map_id_dict['tile_fetcher'].url_format,\n",
    "   attr = 'Google Earth Engine',\n",
    "   name = name, \n",
    "   overlay = True,\n",
    "   control = True\n",
    "   ).add_to(self)\n",
    "\n",
    "  elif isinstance(ee_object, ee.geometry.Geometry):\n",
    "   folium.GeoJson(\n",
    "   data = ee_object.getInfo(),\n",
    "   name = name,\n",
    "   overlay = True,\n",
    "   control = True\n",
    "   ).add_to(self)\n",
    "\n",
    "  elif isinstance(ee_object,ee.featurecollection.FeatureCollection):\n",
    "   ee_object_new = ee.Image().paint(ee_object, 0, 2)\n",
    "   map_id_dict = ee.Image(ee_object_new).getMapId(vis_params)\n",
    "   folium.raster_layers.TileLayer(\n",
    "   tiles = map_id_dict['tile_fetcher'].url_format,\n",
    "   attr = 'Google Earth Engine',\n",
    "   name = name,\n",
    "   overlay = True,\n",
    "   control = True\n",
    "   ).add_to(self)\n",
    "\n",
    " except:\n",
    "  print(\"Could not display {}\".format(name))\n",
    "\n",
    "#date conversion\n",
    "def DatetoSystemtime(datelist):\n",
    "    geestamp=[]\n",
    "    for date in datelist:       \n",
    "        date = pd.to_datetime(date, format='%Y-%m-%d')       \n",
    "       # print (date)\n",
    "        year_day = pd.Timestamp(year=date.year, month=1, day=1)       \n",
    "        doy = (date - year_day).days + 1     ## add three digits ###   \n",
    "        hour = '12'\n",
    "        year=date.year\n",
    "        timestamp = str(year) + str(doy) + hour\n",
    "        # convert time stamp to gee format\n",
    "        gee_timestamp = int(pd.to_datetime(timestamp,format='%Y%j%H').value // 10**6)\n",
    "        #print (gee_timestamp)\n",
    "        geestamp.append(gee_timestamp)        \n",
    "    return geestamp    \n",
    "\n",
    "#remove properties \n",
    "def removeProperty(feat): \n",
    "    properties = feat.propertyNames()\n",
    "    selectProperties = properties.filter(ee.Filter.eq('item', 'MGRS_TILE')) \n",
    "    return feat.select(selectProperties)\n",
    "\n",
    "\n",
    "def polyInterFeatureCollection(tile):    \n",
    "    tile = ee.Feature(tile)\n",
    "    intersects =ezone.map(polygonintersect)   \n",
    "    #intersects =ezone.map(lambda feat1:polygonintersect(*feat1))\n",
    "    sortedintersect=intersects.sort('Intersect',false)\n",
    "    return sortedinterset.first()\n",
    "\n",
    "#featurecollection intersection\n",
    "def featurecollection_interset(tile, resultlist):\n",
    "    resultlist = ee.List(resultlist)\n",
    "    tile = ee.Feature(tile)\n",
    "    def polygonintersect(zone):    \n",
    "        zone = ee.Feature(zone)   \n",
    "        intersection = tile.intersection(zone, ee.ErrorMargin(1));\n",
    "        return intersection.set({'ezone': zone.get('EZMAP_ZONE')}).set({'Intersect': intersection.area().divide(1000 * 1000)})\n",
    "    intersection = zoneList.map(polygonintersect)\n",
    "    sortedintersect=ee.FeatureCollection(intersection).sort('Intersect', False)\n",
    "    return resultlist.add(sortedintersect.first())\n",
    "\n",
    "#land cover frequency\n",
    "def calculateFreq(tile,list):\n",
    "    list=ee.List(list)\n",
    "    frequency = NALCMS_forest.mosaic().reduceRegion(\n",
    "       reducer=ee.Reducer.frequencyHistogram(),\n",
    "       maxPixels=2e9,\n",
    "       scale=500,\n",
    "       geometry=tile.geometry()\n",
    "      )\n",
    "    tempobj= frequency.get(\"landcover\")\n",
    "    okeys = ee.Dictionary(tempobj).keys()\n",
    "    ovals = ee.Dictionary(tempobj).values()\n",
    "    minmax = ee.Dictionary(ovals.reduce(ee.Reducer.minMax()))\n",
    "    maxval = ee.Number(minmax.get('max'))\n",
    "    maxind = ovals.indexOf(maxval)\n",
    "    maxkey = okeys.get(maxind)\n",
    "    tile= tile.set({'landcover': maxkey})\n",
    "    return list.add(tile)\n",
    "\n",
    "#feature to dataframe\n",
    "def fc2df(fc):\n",
    "    # Convert a FeatureCollection into a pandas DataFrame\n",
    "    # Features is a list of dict with the output\n",
    "    features = fc.getInfo()['features']\n",
    "    dictarr = []\n",
    "    for f in features:\n",
    "        # Store all attributes in a dict\n",
    "        attr = f['properties']\n",
    "        # and treat geometry separately\n",
    "        #attr['geometry'] = f['geometry']  # GeoJSON Feature!\n",
    "        # attr['geometrytype'] = f['geometry']['type']\n",
    "        dictarr.append(attr)\n",
    "        df = GeoDataFrame(dictarr)\n",
    "        # Convert GeoJSON features to shape\n",
    "        #df['geometry'] = map(lambda s: shape(s), df.geometry)\n",
    "    return df\n",
    "\n",
    "#add date to a feature\n",
    "def datelist(img):\n",
    "    imgdate=ee.Date(img.get(\"system:time_start\"))\n",
    "    return ee.Feature(None, {'date': imgdate.format('YYYY-MM-dd')})\n",
    " \n",
    "#bit wsie operation  \n",
    "def bitwiseExtract(value, fromBit, toBit):\n",
    "    maskSize = ee.Number(1).add(toBit).subtract(fromBit)\n",
    "    mask = ee.Number(1).leftShift(maskSize).subtract(1)\n",
    "    return value.rightShift(fromBit).bitwiseAnd(mask)\n",
    "\n",
    "#modis product bit mask\n",
    "def bitmask(image):\n",
    "    qa = image.select('FparLai_QC')\n",
    "    good = bitwiseExtract(qa, 0,0) # returns 0 for good quality\n",
    "    return image.updateMask(ee.Image(good).eq(0))  ## needs to be inverted to mask pixels with bad quality, 0 means good quality , pass the mask   \n",
    "\n",
    "## loops for stats based LAI\n",
    "def applyS2(tile):\n",
    "    tile=ee.FeatureCollection(tile)\n",
    "    tilename=ee.Feature(tile).get('MGRS_TILE')\n",
    "    def statscal(img):    \n",
    "        sts=img.select('estimateLAI','errorLAI').reduceRegion(\n",
    "        reducer= reducers,\n",
    "        geometry= tile.geometry(),\n",
    "        scale= MODISscale,\n",
    "        maxPixels= 1e9\n",
    "        )        \n",
    "        return ee.Feature(None, {'tile': tilename, 'date':img.get('date'), 'LAI_mean':sts.get('estimateLAI_mean'),'LAI_std':sts.get('estimateLAI_stdDev'),'number of samples ':sts.get('estimateLAI_count'),'LAIunc_mean':sts.get('errorLAI_mean')}) \n",
    "    feat=dataS2matchedMODIS.filterBounds(tile.geometry()).map(statscal)\n",
    "    return feat    \n",
    "  "
   ]
  },
  {
   "cell_type": "markdown",
   "metadata": {},
   "source": [
    "**dominant ezone**"
   ]
  },
  {
   "cell_type": "code",
   "execution_count": 24,
   "metadata": {},
   "outputs": [
    {
     "data": {
      "text/html": [
       "<div style=\"width:100%;\"><div style=\"position:relative;width:100%;height:0;padding-bottom:60%;\"><span style=\"color:#565656\">Make this Notebook Trusted to load map: File -> Trust Notebook</span><iframe src=\"about:blank\" style=\"position:absolute;width:100%;height:100%;left:0;top:0;border:none !important;\" data-html=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 onload=\"this.contentDocument.open();this.contentDocument.write(atob(this.getAttribute('data-html')));this.contentDocument.close();\" allowfullscreen webkitallowfullscreen mozallowfullscreen></iframe></div></div>"
      ],
      "text/plain": [
       "<folium.folium.Map at 0x278f037a8c8>"
      ]
     },
     "metadata": {},
     "output_type": "display_data"
    }
   ],
   "source": [
    "## remove properties not required in each feature, only MGRS_TILE kept\n",
    "newTiles = tiles_CCRS.map(removeProperty)\n",
    "#print (ee.Feature(newTiles.toList(newTiles.size()).get(0)).propertyNames().getInfo())\n",
    "zoneList = ezone.toList(ezone.size())\n",
    "tileIntersect = newTiles.iterate(featurecollection_interset,ee.List([]))\n",
    "tileIntersect = ee.FeatureCollection(ee.List(tileIntersect).flatten()) \n",
    "#print (ee.Feature(tileIntersect.toList(tileIntersect.size()).get(0)).propertyNames().getInfo())\n",
    "#print (tileIntersect.size().getInfo())\n",
    "folium.Map.add_ee_layer = add_ee_layer\n",
    "my_map = folium.Map(location=[56,-106],\n",
    "                    zoom_start=4)\n",
    "my_map.add_ee_layer(tileIntersect, {}, 'intersectarea')\n",
    "my_map.add_child(folium.LayerControl())\n",
    "display(my_map)"
   ]
  },
  {
   "cell_type": "markdown",
   "metadata": {},
   "source": [
    "**dominant land cover**"
   ]
  },
  {
   "cell_type": "code",
   "execution_count": 25,
   "metadata": {},
   "outputs": [
    {
     "name": "stdout",
     "output_type": "stream",
     "text": [
      "       Intersect MGRS_TILE                         ezone landcover\n",
      "0   11067.035589     09WXP        Boreal tundra woodland         1\n",
      "1   11999.771104     10VEL        Boreal tundra woodland         1\n",
      "2   11995.691198     13VDH        Boreal tundra woodland         8\n",
      "3    9276.457129     18WWT                         Polar        13\n",
      "4   12011.348328     11UNA      Boreal coniferous forest         1\n",
      "5   11992.307326     14UPE      Boreal coniferous forest         1\n",
      "6   11983.720807     16UEE        Boreal tundra woodland         8\n",
      "7   11388.776629     21UWQ      Boreal coniferous forest         6\n",
      "8    7620.895955     21TYN      Boreal coniferous forest         1\n",
      "9    8513.159088     10TFP     Temperate mountain system         1\n",
      "10  12027.525684     11TPM     Temperate mountain system         1\n",
      "11  11784.234164     15TUN  Temperate continental forest         5\n",
      "12  12017.904878     15TYL  Temperate continental forest         5\n",
      "13   6347.433752     18TVP     Temperate mountain system         5\n",
      "14  12027.512235     19TFM  Temperate continental forest         6\n",
      "15  11954.824791     12RUV            Subtropical desert         8\n",
      "16   8366.355144     13SCT            Subtropical desert         8\n",
      "17  12073.128315     15SWR      Subtropical humid forest         1\n",
      "18  12066.412109     17SMU      Subtropical humid forest         1\n",
      "19  11195.782224     07VDL        Boreal mountain system         6\n",
      "20  11997.842144     09VVG        Boreal mountain system         1\n",
      "21  10154.777827     13WDR                         Polar        10\n",
      "22   6122.215897     10UGV     Temperate mountain system         1\n",
      "23   9608.864814     18WXV                         Polar        13\n",
      "24   8065.568289     21UUA        Boreal tundra woodland         1\n",
      "25  12023.877616     18UVA      Boreal coniferous forest         1\n",
      "26  12067.793574     15SUR      Subtropical humid forest         1\n",
      "27  12004.316898     19VED        Boreal tundra woodland         6\n"
     ]
    }
   ],
   "source": [
    "##Define Forest Cover map to use - should be a global constant\n",
    "NALCMS_forest = ee.ImageCollection('users/rfernand387/NA_NALCMS_2015_tiles')\\\n",
    ".map(lambda image:image.select(\"b1\").rename(\"landcover\"))\\\n",
    ".merge(ee.ImageCollection(\"COPERNICUS/Landcover/100m/Proba-V/Global\")\\\n",
    ".map(lambda image:image.select(\"discrete_classification\").remap([0,20,30,40,50,60,70,80,90,100,111,112,113,114,115,116,121,122,123,124,125,126,200],[0,8,10,15,17,16,19,18,14,13,1,3,1,5,6,6,2,4,2,5,6,6,18],0).toUint8().rename(\"landcover\")))\n",
    "\n",
    "tilestats= ee.FeatureCollection(ee.List(tileIntersect.iterate(calculateFreq,ee.List([]))).flatten())\n",
    "#print (ee.Feature(secondtile.toList(secondtile.size()).get(0)).propertyNames().getInfo())\n",
    "#print (ee.Feature(secondtile.toList(secondtile.size()).get(17)).get('landcover').getInfo())\n",
    "tilesframe=fc2df(tilestats)\n",
    "print(tilesframe)\n",
    "tilesframe.to_csv('tiles_summary.csv')"
   ]
  },
  {
   "cell_type": "markdown",
   "metadata": {},
   "source": [
    "**ImageCollection**"
   ]
  },
  {
   "cell_type": "code",
   "execution_count": 28,
   "metadata": {},
   "outputs": [
    {
     "name": "stdout",
     "output_type": "stream",
     "text": [
      "46\n",
      "124\n",
      "60\n",
      "matched dates between MODIS and S2\n",
      "['2019-04-19', '2019-05-01', '2019-08-01', '2019-04-11', '2019-08-21', '2019-06-26', '2019-07-08', '2019-07-20', '2019-06-06', '2019-09-06', '2019-07-28', '2019-05-09', '2019-06-30', '2019-04-03', '2019-06-02', '2019-08-05', '2019-09-18', '2019-08-29', '2019-06-18', '2019-05-13', '2019-08-09', '2019-04-23', '2019-05-17', '2019-06-10', '2019-07-12', '2019-09-26', '2019-04-27', '2019-05-21', '2019-06-22', '2019-09-10', '2019-07-16', '2019-08-25']\n",
      "matched dates between MODIS and CLGS\n",
      "['2019-09-30', '2019-07-20', '2019-06-30', '2019-06-10']\n"
     ]
    }
   ],
   "source": [
    "year_start=2019\n",
    "year_end=2019\n",
    "month_start=4\n",
    "month_end=9\n",
    "mapBounds= ee.FeatureCollection(ee.Feature(newTiles.toList(newTiles.size()).get(0))).geometry()\n",
    "dataMODIS =ee.ImageCollection('MODIS/006/MCD15A3H').filterBounds(mapBounds).filter(ee.Filter.calendarRange(year_start, year_end, 'year')).filter(ee.Filter.calendarRange(month_start, month_end, 'month'))\n",
    "dataS2=ee.ImageCollection('COPERNICUS/S2_SR').filterBounds(mapBounds).filter(ee.Filter.calendarRange(year_start, year_end, 'year')).filter(\\\n",
    "        ee.Filter.calendarRange(month_start, month_end, 'month')).filterMetadata(\"CLOUDY_PIXEL_PERCENTAGE\", 'less_than',60) \n",
    "dateMODIS=dataMODIS.map(lambda img: ee.Feature(None, {'date': ee.Date(img.get(\"system:time_start\")).format('YYYY-MM-dd')})).distinct('date').aggregate_array('date')\n",
    "dataS2=Leaf_tools.Leaf_tools(mapBounds, 2019)\n",
    "dateS2=dataS2.map(lambda img: ee.Feature(None, {'date': ee.Date(img.get(\"system:time_start\")).format('YYYY-MM-dd')})).distinct('date').aggregate_array('date')\n",
    "dateCLGS=LAI_CCRS.filterBounds(mapBounds).map(lambda img: ee.Feature(None, {'date': ee.Date(img.get(\"system:time_start\")).format('YYYY-MM-dd')})).distinct('date').aggregate_array('date')\n",
    "print (dateMODIS.size().getInfo())  \n",
    "print (dateS2.size().getInfo())  \n",
    "print (dateCLGS.size().getInfo()) \n",
    "#print (dateS2.getInfo())\n",
    "#print (dateMODIS.getInfo())\n",
    "\n",
    "datelistMODIS_S2=list(set(dateS2.getInfo()).intersection(dateMODIS.getInfo())) ## matched between MODIS and S2\n",
    "print(\"matched dates between MODIS and S2\")\n",
    "print (datelistMODIS_S2)\n",
    "datelistMODIS_CLGS=list(set(dateCLGS.getInfo()).intersection(dateMODIS.getInfo())) ## matched between MODIS and CLGS\n",
    "print(\"matched dates between MODIS and CLGS\")\n",
    "print (datelistMODIS_CLGS)"
   ]
  },
  {
   "cell_type": "markdown",
   "metadata": {},
   "source": [
    "**date related processing**"
   ]
  },
  {
   "cell_type": "code",
   "execution_count": 29,
   "metadata": {},
   "outputs": [
    {
     "name": "stdout",
     "output_type": "stream",
     "text": [
      "181\n",
      "32\n",
      "140\n",
      "4\n"
     ]
    }
   ],
   "source": [
    "## add date as a property\n",
    "dataMODIS=dataMODIS.map(lambda img:img.set('date', ee.Date(img.get('system:time_start')).format(\"yyyy-MM-dd\")))\n",
    "dataCLGS=LAI_Bel.map(lambda img:img.set('date', ee.Date(img.get('system:time_start')).format(\"yyyy-MM-dd\")))\n",
    "dataS2=dataS2.map(lambda img:img.set('date', ee.Date(img.get('system:time_start')).format(\"yyyy-MM-dd\")))\n",
    "### match bettween MODIS and S2\n",
    "dataS2matchedMODIS=dataS2.filter(ee.Filter.inList('date', ee.List(datelistMODIS_S2))).map(lambda img:img.updateMask(img.eq(0)))\n",
    "dataMODISmatchedS2=dataMODIS.filter(ee.Filter.inList('date', ee.List(datelistMODIS_S2))).map(bitmask)\n",
    "print (dataS2matchedMODIS.size().getInfo())  \n",
    "print (dataMODISmatchedS2.size().getInfo()) \n",
    "### match bettween MODIS and CLGS\n",
    "dataCLGSmatchedMODIS=dataCLGS.filter(ee.Filter.inList('date', ee.List(datelistMODIS_CLGS))).map(lambda img:img.updateMask(img.eq(1)))\n",
    "dataMODISmatchedS2=dataMODIS.filter(ee.Filter.inList('date', ee.List(datelistMODIS_CLGS))).map(bitmask)\n",
    "print (dataCLGSmatchedMODIS.size().getInfo()) \n",
    "print (dataMODISmatchedS2.size().getInfo()) "
   ]
  },
  {
   "cell_type": "markdown",
   "metadata": {},
   "source": [
    "**Statistic analysis: mean, std, count**"
   ]
  },
  {
   "cell_type": "code",
   "execution_count": 30,
   "metadata": {},
   "outputs": [
    {
     "name": "stdout",
     "output_type": "stream",
     "text": [
      "181\n"
     ]
    }
   ],
   "source": [
    "reducers = ee.Reducer.mean().combine(\n",
    "  reducer2= ee.Reducer.stdDev(),\n",
    "  sharedInputs= True\n",
    ").combine(\n",
    "  reducer2= ee.Reducer.count(),\n",
    "  sharedInputs= True\n",
    ")\n",
    "\n",
    "testtile=ee.FeatureCollection(ee.Feature(tileIntersect.toList(tiles.size()).get(0)))\n",
    "MODISscale=dataMODISmatchedS2.first().projection().nominalScale()\n",
    "S2output=testtile.map(applyS2).flatten()\n",
    "#S2output=tileIntersect.map(applyS2).flatten()\n",
    "#S2list=fc2df(S2output)\n",
    "#print(S2list)\n",
    "print(S2output.size().getInfo())\n",
    "#print (ee.Feature(S2output.toList(S2output.size()).get(0)).getInfo())\n",
    "#print (ee.Feature(S2output.toList(S2output.size()).get(0)).propertyNames().getInfo())\n",
    "#print (ee.Feature(secondtile.toList(secondtile.size()).get(17)).get('landcover').getInfo())\n"
   ]
  },
  {
   "cell_type": "code",
   "execution_count": null,
   "metadata": {},
   "outputs": [],
   "source": []
  }
 ],
 "metadata": {
  "kernelspec": {
   "display_name": "Python 3",
   "language": "python",
   "name": "python3"
  },
  "language_info": {
   "codemirror_mode": {
    "name": "ipython",
    "version": 3
   },
   "file_extension": ".py",
   "mimetype": "text/x-python",
   "name": "python",
   "nbconvert_exporter": "python",
   "pygments_lexer": "ipython3",
   "version": "3.7.9"
  }
 },
 "nbformat": 4,
 "nbformat_minor": 4
}
