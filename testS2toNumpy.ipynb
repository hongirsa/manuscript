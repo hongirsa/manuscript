{
 "cells": [
  {
   "cell_type": "code",
   "execution_count": null,
   "metadata": {},
   "outputs": [],
   "source": [
    "import ee\n",
    "import numpy as np\n",
    "import matplotlib.pyplot as plt\n",
    "\n",
    "ee.Authenticate()\n",
    "ee.Initialize()"
   ]
  },
  {
   "cell_type": "code",
   "execution_count": null,
   "metadata": {},
   "outputs": [],
   "source": [
    "image = ee.Image(\"users/ganghong/Belmanip_LAI_Site1/20190402T165849_20190402T171115_T15SVV_LAI\")\n",
    "tiles_Bel = ee.FeatureCollection(\"users/ganghong/TilesSampling_Belmanip_Sub\")\n",
    "aoi= ee.FeatureCollection(ee.Feature(tiles_Bel.toList(tiles_Bel.size()).get(0))).geometry()\n",
    "print (aoi.bounds().getInfo())\n",
    "tilename=ee.Feature(tiles_Bel.toList(tiles_Bel.size()).get(0)).get('MGRS_TILE')\n",
    "print (tilename.getInfo())"
   ]
  },
  {
   "cell_type": "code",
   "execution_count": 34,
   "metadata": {},
   "outputs": [
    {
     "name": "stdout",
     "output_type": "stream",
     "text": [
      "{'type': 'Projection', 'crs': 'SR-ORG:6974', 'transform': [500.00000000053956, 0, -20015109.354, 0, 499.9999999994604, 10007554.677]}\n",
      "{'type': 'Image', 'bands': [{'id': 'estimateLAI_mean', 'data_type': {'type': 'PixelType', 'precision': 'double', 'min': 0, 'max': 65535}, 'crs': 'SR-ORG:6974', 'crs_transform': [500.00000000053956, 0, -20015109.354, 0, 499.9999999994604, 10007554.677]}, {'id': 'estimateLAI_stdDev', 'data_type': {'type': 'PixelType', 'precision': 'double'}, 'crs': 'SR-ORG:6974', 'crs_transform': [500.00000000053956, 0, -20015109.354, 0, 499.9999999994604, 10007554.677]}, {'id': 'estimateLAI_count', 'data_type': {'type': 'PixelType', 'precision': 'int', 'min': 0, 'max': 4294967295}, 'crs': 'SR-ORG:6974', 'crs_transform': [500.00000000053956, 0, -20015109.354, 0, 499.9999999994604, 10007554.677]}, {'id': 'errorLAI_mean', 'data_type': {'type': 'PixelType', 'precision': 'double', 'min': 0, 'max': 65535}, 'crs': 'SR-ORG:6974', 'crs_transform': [500.00000000053956, 0, -20015109.354, 0, 499.9999999994604, 10007554.677]}, {'id': 'errorLAI_stdDev', 'data_type': {'type': 'PixelType', 'precision': 'double'}, 'crs': 'SR-ORG:6974', 'crs_transform': [500.00000000053956, 0, -20015109.354, 0, 499.9999999994604, 10007554.677]}, {'id': 'errorLAI_count', 'data_type': {'type': 'PixelType', 'precision': 'int', 'min': 0, 'max': 4294967295}, 'crs': 'SR-ORG:6974', 'crs_transform': [500.00000000053956, 0, -20015109.354, 0, 499.9999999994604, 10007554.677]}], 'id': 'users/ganghong/Belmanip_LAI_Site1/20190402T165849_20190402T171115_T15SVV_LAI', 'version': 1612897115350932, 'properties': {'DATATAKE_IDENTIFIER': 'GS2B_20190402T165849_010820_N02.11', 'AOT_RETRIEVAL_ACCURACY': 0, 'SPACECRAFT_NAME': 'Sentinel-2B', 'deltaTime': 7713970000, 'SATURATED_DEFECTIVE_PIXEL_PERCENTAGE': 0, 'CLOUD_SHADOW_PERCENTAGE': 0.000758, 'MEAN_INCIDENCE_AZIMUTH_ANGLE_B8A': 284.298119019, 'MEAN_SOLAR_AZIMUTH_ANGLE': 150.708508554, 'VEGETATION_PERCENTAGE': 43.107527, 'system:footprint': {'type': 'LinearRing', 'coordinates': [[-93.00303068094382, 35.2408184321606], [-93.00281015845046, 35.24095762778512], [-93.00280786850257, 36.05523160686632], [-93.12758192132621, 36.055231717312736], [-93.25213335216924, 36.05523167857735], [-93.37668478346156, 36.05523167467585], [-93.50123614925204, 36.0552317257704], [-93.62578758556441, 36.055231678006855], [-93.75033904445264, 36.05523171173864], [-93.87489044613416, 36.05523167460499], [-93.99966447526883, 36.05523162263713], [-93.99966221691736, 35.24081834663839], [-93.87489044613416, 35.24081848130395], [-93.75033904445264, 35.24081845655999], [-93.62578758556441, 35.2408184121148], [-93.50123614925204, 35.240818416977625], [-93.37668478346156, 35.24081845522229], [-93.25213335216924, 35.24081842986256], [-93.12758192132621, 35.240818486899876], [-93.00303068094382, 35.2408184321606]]}, 'SOLAR_IRRADIANCE_B12': 87.75, 'SENSOR_QUALITY': 'PASSED', 'SOLAR_IRRADIANCE_B10': 365.41, 'SOLAR_IRRADIANCE_B11': 247.08, 'GENERATION_TIME': 1554239940000, 'FORMAT_CORRECTNESS': 'PASSED', 'SOLAR_IRRADIANCE_B8A': 953.93, 'CLOUD_COVERAGE_ASSESSMENT': 1.03927, 'THIN_CIRRUS_PERCENTAGE': 1.027556, 'system:time_end': 1554225230000, 'WATER_VAPOUR_RETRIEVAL_ACCURACY': 0, 'system:time_start': 1554225230000, 'DATASTRIP_ID': 'S2B_OPER_MSI_L2A_DS_SGS__20190402T211900_S20190402T171115_N02.11', 'PROCESSING_BASELINE': '02.11', 'SENSING_ORBIT_NUMBER': 69, 'NODATA_PIXEL_PERCENTAGE': 17.262958, 'GENERAL_QUALITY': 'PASSED', 'SENSING_ORBIT_DIRECTION': 'DESCENDING', 'GRANULE_ID': 'L2A_T15SVV_A010820_20190402T171115', 'MEDIUM_PROBA_CLOUDS_PERCENTAGE': 0.006845, 'REFLECTANCE_CONVERSION_CORRECTION': 1.00340948485, 'MEAN_INCIDENCE_AZIMUTH_ANGLE_B8': 283.901756369, 'DATATAKE_TYPE': 'INS-NOBS', 'MEAN_INCIDENCE_AZIMUTH_ANGLE_B9': 284.402920163, 'MEAN_INCIDENCE_AZIMUTH_ANGLE_B6': 284.199869357, 'MEAN_INCIDENCE_AZIMUTH_ANGLE_B7': 284.244225971, 'MEAN_INCIDENCE_AZIMUTH_ANGLE_B4': 284.070038926, 'MEAN_INCIDENCE_ZENITH_ANGLE_B1': 8.36386558718, 'NOT_VEGETATED_PERCENTAGE': 53.708786, 'MEAN_INCIDENCE_AZIMUTH_ANGLE_B5': 284.126130177, 'RADIOMETRIC_QUALITY': 'PASSED', 'MEAN_INCIDENCE_AZIMUTH_ANGLE_B2': 283.843893021, 'MEAN_INCIDENCE_AZIMUTH_ANGLE_B3': 283.958473267, 'MEAN_INCIDENCE_ZENITH_ANGLE_B5': 8.25854327506, 'MEAN_INCIDENCE_AZIMUTH_ANGLE_B1': 284.323879209, 'MEAN_INCIDENCE_ZENITH_ANGLE_B4': 8.23693271032, 'MEAN_INCIDENCE_ZENITH_ANGLE_B3': 8.20382674642, 'MEAN_INCIDENCE_ZENITH_ANGLE_B2': 8.18137468666, 'MEAN_INCIDENCE_ZENITH_ANGLE_B9': 8.39877816134, 'MEAN_INCIDENCE_ZENITH_ANGLE_B8': 8.18951366519, 'DARK_FEATURES_PERCENTAGE': 0.582968, 'HIGH_PROBA_CLOUDS_PERCENTAGE': 0.004868, 'MEAN_INCIDENCE_ZENITH_ANGLE_B7': 8.30609504422, 'MEAN_INCIDENCE_ZENITH_ANGLE_B6': 8.28268954891, 'UNCLASSIFIED_PERCENTAGE': 0.128179, 'MEAN_SOLAR_ZENITH_ANGLE': 33.9750746577, 'MEAN_INCIDENCE_ZENITH_ANGLE_B8A': 8.33187525328, 'RADIATIVE_TRANSFER_ACCURACY': 0, 'MGRS_TILE': '15SVV', 'CLOUDY_PIXEL_PERCENTAGE': 1.03927, 'PRODUCT_ID': 'S2B_MSIL2A_20190402T165849_N0211_R069_T15SVV_20190402T211900', 'MEAN_INCIDENCE_ZENITH_ANGLE_B10': 8.2265431753, 'SNOW_ICE_PERCENTAGE': 0, 'SOLAR_IRRADIANCE_B9': 817.58, 'DEGRADED_MSI_DATA_PERCENTAGE': 0, 'MEAN_INCIDENCE_ZENITH_ANGLE_B11': 8.2789435088, 'MEAN_INCIDENCE_ZENITH_ANGLE_B12': 8.33888550081, 'SOLAR_IRRADIANCE_B6': 1291.13, 'MEAN_INCIDENCE_AZIMUTH_ANGLE_B10': 283.937288168, 'SOLAR_IRRADIANCE_B5': 1425.78, 'MEAN_INCIDENCE_AZIMUTH_ANGLE_B11': 284.110547428, 'SOLAR_IRRADIANCE_B8': 1041.28, 'MEAN_INCIDENCE_AZIMUTH_ANGLE_B12': 284.236106098, 'SOLAR_IRRADIANCE_B7': 1175.57, 'SOLAR_IRRADIANCE_B2': 1959.77, 'SOLAR_IRRADIANCE_B1': 1874.3, 'GEOMETRIC_QUALITY': 'PASSED', 'SOLAR_IRRADIANCE_B4': 1512.79, 'SOLAR_IRRADIANCE_B3': 1824.93, 'system:asset_size': 9340746, 'WATER_PERCENTAGE': 1.432508}}\n",
      "{'type': 'Projection', 'crs': 'SR-ORG:6974', 'transform': [500.00000000053956, 0, -20015109.354, 0, 499.9999999994604, 10007554.677]}\n",
      "499.99999999999994\n"
     ]
    },
    {
     "ename": "EEException",
     "evalue": "Reprojection output too large (19842x5585 pixels).",
     "output_type": "error",
     "traceback": [
      "\u001b[1;31m---------------------------------------------------------------------------\u001b[0m",
      "\u001b[1;31mHttpError\u001b[0m                                 Traceback (most recent call last)",
      "\u001b[1;32m~\\.conda\\envs\\eeALR\\lib\\site-packages\\ee\\data.py\u001b[0m in \u001b[0;36m_execute_cloud_call\u001b[1;34m(call, num_retries)\u001b[0m\n\u001b[0;32m    333\u001b[0m   \u001b[1;32mtry\u001b[0m\u001b[1;33m:\u001b[0m\u001b[1;33m\u001b[0m\u001b[1;33m\u001b[0m\u001b[0m\n\u001b[1;32m--> 334\u001b[1;33m     \u001b[1;32mreturn\u001b[0m \u001b[0mcall\u001b[0m\u001b[1;33m.\u001b[0m\u001b[0mexecute\u001b[0m\u001b[1;33m(\u001b[0m\u001b[0mnum_retries\u001b[0m\u001b[1;33m=\u001b[0m\u001b[0mnum_retries\u001b[0m\u001b[1;33m)\u001b[0m\u001b[1;33m\u001b[0m\u001b[1;33m\u001b[0m\u001b[0m\n\u001b[0m\u001b[0;32m    335\u001b[0m   \u001b[1;32mexcept\u001b[0m \u001b[0mgoogleapiclient\u001b[0m\u001b[1;33m.\u001b[0m\u001b[0merrors\u001b[0m\u001b[1;33m.\u001b[0m\u001b[0mHttpError\u001b[0m \u001b[1;32mas\u001b[0m \u001b[0me\u001b[0m\u001b[1;33m:\u001b[0m\u001b[1;33m\u001b[0m\u001b[1;33m\u001b[0m\u001b[0m\n",
      "\u001b[1;32m~\\.conda\\envs\\eeALR\\lib\\site-packages\\googleapiclient\\_helpers.py\u001b[0m in \u001b[0;36mpositional_wrapper\u001b[1;34m(*args, **kwargs)\u001b[0m\n\u001b[0;32m    133\u001b[0m                     \u001b[0mlogger\u001b[0m\u001b[1;33m.\u001b[0m\u001b[0mwarning\u001b[0m\u001b[1;33m(\u001b[0m\u001b[0mmessage\u001b[0m\u001b[1;33m)\u001b[0m\u001b[1;33m\u001b[0m\u001b[1;33m\u001b[0m\u001b[0m\n\u001b[1;32m--> 134\u001b[1;33m             \u001b[1;32mreturn\u001b[0m \u001b[0mwrapped\u001b[0m\u001b[1;33m(\u001b[0m\u001b[1;33m*\u001b[0m\u001b[0margs\u001b[0m\u001b[1;33m,\u001b[0m \u001b[1;33m**\u001b[0m\u001b[0mkwargs\u001b[0m\u001b[1;33m)\u001b[0m\u001b[1;33m\u001b[0m\u001b[1;33m\u001b[0m\u001b[0m\n\u001b[0m\u001b[0;32m    135\u001b[0m \u001b[1;33m\u001b[0m\u001b[0m\n",
      "\u001b[1;32m~\\.conda\\envs\\eeALR\\lib\\site-packages\\googleapiclient\\http.py\u001b[0m in \u001b[0;36mexecute\u001b[1;34m(self, http, num_retries)\u001b[0m\n\u001b[0;32m    914\u001b[0m         \u001b[1;32mif\u001b[0m \u001b[0mresp\u001b[0m\u001b[1;33m.\u001b[0m\u001b[0mstatus\u001b[0m \u001b[1;33m>=\u001b[0m \u001b[1;36m300\u001b[0m\u001b[1;33m:\u001b[0m\u001b[1;33m\u001b[0m\u001b[1;33m\u001b[0m\u001b[0m\n\u001b[1;32m--> 915\u001b[1;33m             \u001b[1;32mraise\u001b[0m \u001b[0mHttpError\u001b[0m\u001b[1;33m(\u001b[0m\u001b[0mresp\u001b[0m\u001b[1;33m,\u001b[0m \u001b[0mcontent\u001b[0m\u001b[1;33m,\u001b[0m \u001b[0muri\u001b[0m\u001b[1;33m=\u001b[0m\u001b[0mself\u001b[0m\u001b[1;33m.\u001b[0m\u001b[0muri\u001b[0m\u001b[1;33m)\u001b[0m\u001b[1;33m\u001b[0m\u001b[1;33m\u001b[0m\u001b[0m\n\u001b[0m\u001b[0;32m    916\u001b[0m         \u001b[1;32mreturn\u001b[0m \u001b[0mself\u001b[0m\u001b[1;33m.\u001b[0m\u001b[0mpostproc\u001b[0m\u001b[1;33m(\u001b[0m\u001b[0mresp\u001b[0m\u001b[1;33m,\u001b[0m \u001b[0mcontent\u001b[0m\u001b[1;33m)\u001b[0m\u001b[1;33m\u001b[0m\u001b[1;33m\u001b[0m\u001b[0m\n",
      "\u001b[1;31mHttpError\u001b[0m: <HttpError 400 when requesting https://earthengine.googleapis.com/v1alpha/projects/earthengine-legacy/value:compute?prettyPrint=false&alt=json returned \"Reprojection output too large (19842x5585 pixels).\". Details: \"Reprojection output too large (19842x5585 pixels).\">",
      "\nDuring handling of the above exception, another exception occurred:\n",
      "\u001b[1;31mEEException\u001b[0m                               Traceback (most recent call last)",
      "\u001b[1;32m<ipython-input-34-306a6bd4bf28>\u001b[0m in \u001b[0;36m<module>\u001b[1;34m\u001b[0m\n\u001b[0;32m     68\u001b[0m \u001b[1;31m#print (band_arrs.getInfo())\u001b[0m\u001b[1;33m\u001b[0m\u001b[1;33m\u001b[0m\u001b[1;33m\u001b[0m\u001b[0m\n\u001b[0;32m     69\u001b[0m \u001b[0mband_arr_b4\u001b[0m \u001b[1;33m=\u001b[0m \u001b[0mband_arrs\u001b[0m\u001b[1;33m.\u001b[0m\u001b[0mget\u001b[0m\u001b[1;33m(\u001b[0m\u001b[1;34m'estimateLAI_mean'\u001b[0m\u001b[1;33m)\u001b[0m\u001b[1;33m\u001b[0m\u001b[1;33m\u001b[0m\u001b[0m\n\u001b[1;32m---> 70\u001b[1;33m \u001b[0mnp_arr_b4\u001b[0m \u001b[1;33m=\u001b[0m \u001b[0mnp\u001b[0m\u001b[1;33m.\u001b[0m\u001b[0marray\u001b[0m\u001b[1;33m(\u001b[0m\u001b[0mband_arr_b4\u001b[0m\u001b[1;33m.\u001b[0m\u001b[0mgetInfo\u001b[0m\u001b[1;33m(\u001b[0m\u001b[1;33m)\u001b[0m\u001b[1;33m)\u001b[0m\u001b[1;33m\u001b[0m\u001b[1;33m\u001b[0m\u001b[0m\n\u001b[0m\u001b[0;32m     71\u001b[0m \u001b[0mprint\u001b[0m \u001b[1;33m(\u001b[0m\u001b[0mnp_arr_b4\u001b[0m\u001b[1;33m)\u001b[0m\u001b[1;33m\u001b[0m\u001b[1;33m\u001b[0m\u001b[0m\n\u001b[0;32m     72\u001b[0m \u001b[0mprint\u001b[0m \u001b[1;33m(\u001b[0m\u001b[0mnp_arr_b4\u001b[0m\u001b[1;33m.\u001b[0m\u001b[0mshape\u001b[0m\u001b[1;33m)\u001b[0m\u001b[1;33m\u001b[0m\u001b[1;33m\u001b[0m\u001b[0m\n",
      "\u001b[1;32m~\\.conda\\envs\\eeALR\\lib\\site-packages\\ee\\computedobject.py\u001b[0m in \u001b[0;36mgetInfo\u001b[1;34m(self)\u001b[0m\n\u001b[0;32m     93\u001b[0m       \u001b[0mThe\u001b[0m \u001b[0mobject\u001b[0m \u001b[0mcan\u001b[0m \u001b[0mevaluate\u001b[0m \u001b[0mto\u001b[0m \u001b[0manything\u001b[0m\u001b[1;33m.\u001b[0m\u001b[1;33m\u001b[0m\u001b[1;33m\u001b[0m\u001b[0m\n\u001b[0;32m     94\u001b[0m     \"\"\"\n\u001b[1;32m---> 95\u001b[1;33m     \u001b[1;32mreturn\u001b[0m \u001b[0mdata\u001b[0m\u001b[1;33m.\u001b[0m\u001b[0mcomputeValue\u001b[0m\u001b[1;33m(\u001b[0m\u001b[0mself\u001b[0m\u001b[1;33m)\u001b[0m\u001b[1;33m\u001b[0m\u001b[1;33m\u001b[0m\u001b[0m\n\u001b[0m\u001b[0;32m     96\u001b[0m \u001b[1;33m\u001b[0m\u001b[0m\n\u001b[0;32m     97\u001b[0m   \u001b[1;32mdef\u001b[0m \u001b[0mencode\u001b[0m\u001b[1;33m(\u001b[0m\u001b[0mself\u001b[0m\u001b[1;33m,\u001b[0m \u001b[0mencoder\u001b[0m\u001b[1;33m)\u001b[0m\u001b[1;33m:\u001b[0m\u001b[1;33m\u001b[0m\u001b[1;33m\u001b[0m\u001b[0m\n",
      "\u001b[1;32m~\\.conda\\envs\\eeALR\\lib\\site-packages\\ee\\data.py\u001b[0m in \u001b[0;36mcomputeValue\u001b[1;34m(obj)\u001b[0m\n\u001b[0;32m    676\u001b[0m           \u001b[0mbody\u001b[0m\u001b[1;33m=\u001b[0m\u001b[1;33m{\u001b[0m\u001b[1;34m'expression'\u001b[0m\u001b[1;33m:\u001b[0m \u001b[0mserializer\u001b[0m\u001b[1;33m.\u001b[0m\u001b[0mencode\u001b[0m\u001b[1;33m(\u001b[0m\u001b[0mobj\u001b[0m\u001b[1;33m,\u001b[0m \u001b[0mfor_cloud_api\u001b[0m\u001b[1;33m=\u001b[0m\u001b[1;32mTrue\u001b[0m\u001b[1;33m)\u001b[0m\u001b[1;33m}\u001b[0m\u001b[1;33m,\u001b[0m\u001b[1;33m\u001b[0m\u001b[1;33m\u001b[0m\u001b[0m\n\u001b[0;32m    677\u001b[0m           \u001b[0mproject\u001b[0m\u001b[1;33m=\u001b[0m\u001b[0m_get_projects_path\u001b[0m\u001b[1;33m(\u001b[0m\u001b[1;33m)\u001b[0m\u001b[1;33m,\u001b[0m\u001b[1;33m\u001b[0m\u001b[1;33m\u001b[0m\u001b[0m\n\u001b[1;32m--> 678\u001b[1;33m           prettyPrint=False))['result']\n\u001b[0m\u001b[0;32m    679\u001b[0m \u001b[1;33m\u001b[0m\u001b[0m\n\u001b[0;32m    680\u001b[0m \u001b[1;33m\u001b[0m\u001b[0m\n",
      "\u001b[1;32m~\\.conda\\envs\\eeALR\\lib\\site-packages\\ee\\data.py\u001b[0m in \u001b[0;36m_execute_cloud_call\u001b[1;34m(call, num_retries)\u001b[0m\n\u001b[0;32m    334\u001b[0m     \u001b[1;32mreturn\u001b[0m \u001b[0mcall\u001b[0m\u001b[1;33m.\u001b[0m\u001b[0mexecute\u001b[0m\u001b[1;33m(\u001b[0m\u001b[0mnum_retries\u001b[0m\u001b[1;33m=\u001b[0m\u001b[0mnum_retries\u001b[0m\u001b[1;33m)\u001b[0m\u001b[1;33m\u001b[0m\u001b[1;33m\u001b[0m\u001b[0m\n\u001b[0;32m    335\u001b[0m   \u001b[1;32mexcept\u001b[0m \u001b[0mgoogleapiclient\u001b[0m\u001b[1;33m.\u001b[0m\u001b[0merrors\u001b[0m\u001b[1;33m.\u001b[0m\u001b[0mHttpError\u001b[0m \u001b[1;32mas\u001b[0m \u001b[0me\u001b[0m\u001b[1;33m:\u001b[0m\u001b[1;33m\u001b[0m\u001b[1;33m\u001b[0m\u001b[0m\n\u001b[1;32m--> 336\u001b[1;33m     \u001b[1;32mraise\u001b[0m \u001b[0m_translate_cloud_exception\u001b[0m\u001b[1;33m(\u001b[0m\u001b[0me\u001b[0m\u001b[1;33m)\u001b[0m\u001b[1;33m\u001b[0m\u001b[1;33m\u001b[0m\u001b[0m\n\u001b[0m\u001b[0;32m    337\u001b[0m \u001b[1;33m\u001b[0m\u001b[0m\n\u001b[0;32m    338\u001b[0m \u001b[1;33m\u001b[0m\u001b[0m\n",
      "\u001b[1;31mEEException\u001b[0m: Reprojection output too large (19842x5585 pixels)."
     ]
    }
   ],
   "source": [
    "dataMODIS2 =ee.ImageCollection('MODIS/006/MCD15A3H')\\\n",
    "                      .filterBounds(aoi)\\\n",
    "                      .filterDate('2019-07-01', '2019-09-01')\\\n",
    "                      .select(['Lai', 'Fpar','FparLai_QC'])\n",
    "coarsecrs=dataMODIS2.first().projection()\n",
    " ### coarse resolution reducers  \n",
    "reducers = ee.Reducer.mean().combine(\n",
    "      reducer2= ee.Reducer.stdDev(),\n",
    "      sharedInputs= True\n",
    "    ).combine(\n",
    "      reducer2= ee.Reducer.count(),\n",
    "      sharedInputs= True\n",
    "    )\n",
    "\n",
    "coarseS2=image.select(['estimateLAI','errorLAI']).reproject(image.projection(), None, 20).reduceResolution(\n",
    "               reducer= reducers,\n",
    "               maxPixels= 65535,\n",
    "               bestEffort= True\n",
    "               ).reproject(\n",
    "                   crs= coarsecrs,\n",
    "                   scale= 500\n",
    "                 )\n",
    "print (coarseS2.projection().getInfo())\n",
    "print (coarseS2.getInfo())\n",
    "\n",
    "\n",
    "#Extract an image\n",
    "#TERRA_list = coarseS2.toList(coarseS2.size())\n",
    "#Terra_img = ee.Image(TERRA_list.get(1))\n",
    "coarse_S2 = ee.Image(coarseS2)\n",
    "coarsecrs=coarse_S2.projection()\n",
    "coarsescale=coarse_S2.projection().nominalScale()\n",
    "print (coarsecrs.getInfo())\n",
    "print (coarsescale.getInfo())\n",
    "img = coarse_S2.select('estimateLAI_mean').unmask()\n",
    "\n",
    "# Get 2-d pixel array for AOI - returns feature with 2-D pixel array as property per band.\n",
    "band_arrs = img.sampleRectangle(region=aoi.bounds())\n",
    "#print (band_arrs.getInfo())\n",
    "band_arr_LAI = band_arrs.get('estimateLAI_mean')\n",
    "np_arr_LAI = np.array(band_arr_LAI.getInfo())\n",
    "print (np_arr_LAI)\n",
    "print (np_arr_LAI.shape)\n",
    "print (aoi.projection().getInfo())\n",
    "# # Get individual band arrays.\n",
    "# band_arr_b4 = band_arrs.get('B4')\n",
    "# band_arr_b5 = band_arrs.get('B5')\n",
    "# band_arr_b6 = band_arrs.get('B6')\n",
    "\n",
    "# # Transfer the arrays from server to client and cast as np array.\n",
    "# np_arr_b4 = np.array(band_arr_b4.getInfo())\n",
    "# np_arr_b5 = np.array(band_arr_b5.getInfo())\n",
    "# np_arr_b6 = np.array(band_arr_b6.getInfo())\n",
    "# print(np_arr_b4.shape)\n",
    "# print(np_arr_b5.shape)\n",
    "# print(np_arr_b6.shape)\n",
    "\n",
    "# # Expand the dimensions of the images so they can be concatenated into 3-D.\n",
    "# np_arr_b4 = np.expand_dims(np_arr_b4, 2)\n",
    "# np_arr_b5 = np.expand_dims(np_arr_b5, 2)\n",
    "# np_arr_b6 = np.expand_dims(np_arr_b6, 2)\n",
    "# print(np_arr_b4.shape)\n",
    "# print(np_arr_b5.shape)\n",
    "# print(np_arr_b6.shape)\n",
    "\n",
    "# # Stack the individual bands to make a 3-D array.\n",
    "# rgb_img = np.concatenate((np_arr_b6, np_arr_b5, np_arr_b4), 2)\n",
    "# print(rgb_img.shape)\n",
    "\n",
    "# # Scale the data to [0, 255] to show as an RGB image.\n",
    "# rgb_img_test = (255*((rgb_img - 100)/3500)).astype('uint8')\n",
    "plt.imshow(np_arr_LAI)\n",
    "plt.show()"
   ]
  },
  {
   "cell_type": "code",
   "execution_count": null,
   "metadata": {},
   "outputs": [],
   "source": []
  },
  {
   "cell_type": "code",
   "execution_count": null,
   "metadata": {},
   "outputs": [],
   "source": []
  }
 ],
 "metadata": {
  "kernelspec": {
   "display_name": "Python 3",
   "language": "python",
   "name": "python3"
  },
  "language_info": {
   "codemirror_mode": {
    "name": "ipython",
    "version": 3
   },
   "file_extension": ".py",
   "mimetype": "text/x-python",
   "name": "python",
   "nbconvert_exporter": "python",
   "pygments_lexer": "ipython3",
   "version": "3.8.8"
  }
 },
 "nbformat": 4,
 "nbformat_minor": 4
}
